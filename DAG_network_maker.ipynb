{
  "nbformat": 4,
  "nbformat_minor": 0,
  "metadata": {
    "colab": {
      "provenance": []
    },
    "kernelspec": {
      "name": "python3",
      "display_name": "Python 3"
    },
    "language_info": {
      "name": "python"
    }
  },
  "cells": [
    {
      "cell_type": "code",
      "execution_count": 1,
      "metadata": {
        "id": "UKf-caIgzg3O"
      },
      "outputs": [],
      "source": [
        "import numpy as np\n",
        "import networkx as nx\n",
        "import random\n",
        "import matplotlib.pyplot as plt\n",
        "import time as t"
      ]
    },
    {
      "cell_type": "code",
      "source": [
        "\n",
        "def f(adj):\n",
        "    deg_0=np.sum(adj,axis=0);\n",
        "    l_ind=np.nonzero(deg_0==max(deg_0))[0][0] # it returns indice of leader\n",
        "    adj[:,l_ind]=0; # connecting leader to all the adjacents\n",
        "    k_0=adj[l_ind]\n",
        "    k_ind_init=np.nonzero(k_0==1)[0]; # it brings the neighbours indices\n",
        "    deg=np.zeros(len(k_ind_init));\n",
        "    for i in range(len(k_ind_init)):\n",
        "        deg[i]=deg_0[k_ind_init[i]]\n",
        "    i=0\n",
        "\n",
        "    Ns=np.array([])\n",
        "    while i < len(k_ind_init):\n",
        "\n",
        "        k_k=k_ind_init.copy();\n",
        "        deg0=deg.copy()\n",
        "        deg0.sort();\n",
        "        min_deg=deg0[i]; #finding minimum degrees for extra connection\n",
        "        d_ind=np.nonzero(deg==min_deg)[0];\n",
        "        n_mate=False;ns=np.array([])\n",
        "        for d in range (len(d_ind)):\n",
        "            n_mate=False;\n",
        "            min_ind=k_k[d_ind[d]]; #\n",
        "            ns0=np.nonzero(adj[min_ind]==1)[0]\n",
        "            if len(ns0)>0:\n",
        "                n_mate=True\n",
        "                for n in ns0:\n",
        "                    adj[n,min_ind]=0\n",
        "\n",
        "            if n_mate==True: #saving each chosen node neighbours in loop\n",
        "                if d==0:\n",
        "                    ns= ns0.copy()\n",
        "                if d!=0:\n",
        "                    ns=np.concatenate((ns,ns0),axis=0)\n",
        "                    ns=np.unique(ns)\n",
        "\n",
        "        if i==0:  #saving each chosen node neighbours\n",
        "            Ns=ns.copy()\n",
        "        else:\n",
        "            Ns=np.concatenate((ns,Ns),axis=0)\n",
        "            Ns=np.unique(Ns)\n",
        "        if i==len(k_ind_init)-1:#last loop\n",
        "            k_ind_init=Ns.copy().astype(int)\n",
        "            deg=np.zeros_like(k_ind_init).astype(int);\n",
        "            deg00=np.sum(adj,axis=0).astype(int);\n",
        "            for j in range(len(k_ind_init)):\n",
        "                deg[j]=deg00[k_ind_init[j]]\n",
        "\n",
        "            Ns=np.array([])\n",
        "            i=-1\n",
        "        #stop point\n",
        "        u=adj+adj.T\n",
        "        if 2 not in u:\n",
        "            break\n",
        "\n",
        "        i=i+1\n",
        "    return adj\n"
      ],
      "metadata": {
        "id": "HooLvJPlzjL4"
      },
      "execution_count": null,
      "outputs": []
    }
  ]
}